{
 "cells": [
  {
   "cell_type": "code",
   "execution_count": 1,
   "metadata": {},
   "outputs": [
    {
     "data": {
      "application/vnd.jupyter.widget-view+json": {
       "model_id": "1327f811d8114b528de2dc54ea82652b",
       "version_major": 2,
       "version_minor": 0
      },
      "text/plain": []
     },
     "metadata": {},
     "output_type": "display_data"
    }
   ],
   "source": [
    "from ase.io.vasp import read_vasp\n",
    "from ase.visualize import view\n",
    "import nglview as nv\n",
    "\n",
    "path = '/Users/psireal42/Documents/BB8/Code/Material_Modelling/esm-for-solid/VASP_Output'\n"
   ]
  },
  {
   "cell_type": "code",
   "execution_count": 2,
   "metadata": {},
   "outputs": [
    {
     "data": {
      "application/vnd.jupyter.widget-view+json": {
       "model_id": "459b179046d9487b84b2eebeaff2d4f7",
       "version_major": 2,
       "version_minor": 0
      },
      "text/plain": [
       "HBox(children=(NGLWidget(), VBox(children=(Dropdown(description='Show', options=('All', 'C'), value='All'), Dr…"
      ]
     },
     "metadata": {},
     "output_type": "display_data"
    }
   ],
   "source": [
    "graphene = read_vasp(path + '/Tut_2/T2_test/bands/POSCAR')\n",
    "view(graphene, repeat=[5,5,1], viewer='ngl')\n"
   ]
  },
  {
   "cell_type": "code",
   "execution_count": 3,
   "metadata": {},
   "outputs": [
    {
     "data": {
      "application/vnd.jupyter.widget-view+json": {
       "model_id": "0de36b9b87524f168ef9600152aadc89",
       "version_major": 2,
       "version_minor": 0
      },
      "text/plain": [
       "HBox(children=(NGLWidget(), VBox(children=(Dropdown(description='Show', options=('All', 'Mo', 'S'), value='All…"
      ]
     },
     "metadata": {},
     "output_type": "display_data"
    }
   ],
   "source": [
    "MoS2 = read_vasp(path + '/Tut_2/MoS2/bands/POSCAR')\n",
    "view(MoS2, repeat=[5,5,1], viewer='ngl')\n"
   ]
  },
  {
   "cell_type": "code",
   "execution_count": 8,
   "metadata": {},
   "outputs": [
    {
     "data": {
      "application/vnd.jupyter.widget-view+json": {
       "model_id": "e5eb3b527c0540d6a67c0997da265682",
       "version_major": 2,
       "version_minor": 0
      },
      "text/plain": [
       "HBox(children=(NGLWidget(), VBox(children=(Dropdown(description='Show', options=('All', 'Ni'), value='All'), D…"
      ]
     },
     "metadata": {},
     "output_type": "display_data"
    }
   ],
   "source": [
    "Ni_Bulk = read_vasp(path + '/Tut_3/Ni-bulk/opt/POSCAR')\n",
    "view(Ni_Bulk, repeat=[4,4,3], viewer='ngl')"
   ]
  },
  {
   "cell_type": "code",
   "execution_count": 16,
   "metadata": {},
   "outputs": [
    {
     "data": {
      "text/plain": [
       "<Popen: returncode: None args: ['/Users/psireal42/opt/anaconda3/envs/my-lamm...>"
      ]
     },
     "execution_count": 16,
     "metadata": {},
     "output_type": "execute_result"
    }
   ],
   "source": [
    "Ni_111 = read_vasp(path + '/Tut_3/Ni111/dos/POSCAR') # metal slab visualisation\n",
    "view(Ni_111)"
   ]
  },
  {
   "cell_type": "code",
   "execution_count": 15,
   "metadata": {},
   "outputs": [
    {
     "data": {
      "text/plain": [
       "<Popen: returncode: None args: ['/Users/psireal42/opt/anaconda3/envs/my-lamm...>"
      ]
     },
     "execution_count": 15,
     "metadata": {},
     "output_type": "execute_result"
    }
   ],
   "source": [
    "from ase import Atoms\n",
    "from ase.build import surface, bulk, fcc111, add_adsorbate\n",
    "\n",
    "slab = fcc111('Ni', size = (2,2,3))\n",
    "add_adsorbate(slab,'H', 1.5, 'ontop')\n",
    "slab.center(vacuum=15.0, axis=2)\n",
    "view(slab)"
   ]
  }
 ],
 "metadata": {
  "interpreter": {
   "hash": "552093e8cad3ca42dc3d066c3cf7a0b13b6df30aeaec4d484c3e3d9d9c00e90d"
  },
  "kernelspec": {
   "display_name": "Python 3 (ipykernel)",
   "language": "python",
   "name": "python3"
  },
  "language_info": {
   "codemirror_mode": {
    "name": "ipython",
    "version": 3
   },
   "file_extension": ".py",
   "mimetype": "text/x-python",
   "name": "python",
   "nbconvert_exporter": "python",
   "pygments_lexer": "ipython3",
   "version": "3.10.4"
  }
 },
 "nbformat": 4,
 "nbformat_minor": 4
}
