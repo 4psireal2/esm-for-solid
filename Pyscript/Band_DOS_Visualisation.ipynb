{
 "cells": [
  {
   "cell_type": "code",
   "execution_count": 1,
   "id": "c53e3a24",
   "metadata": {},
   "outputs": [],
   "source": [
    "from IPython.display import display, Math, Latex\n",
    "\n",
    "from pymatgen.io.vasp.outputs import BSVasprun, Outcar, Vasprun\n",
    "from pymatgen.electronic_structure.plotter import BSDOSPlotter, BSPlotter, DosPlotter\n",
    "from pymatgen.io.vasp.inputs import Kpoints\n",
    "from pymatgen.core import Structure\n",
    "from pymatgen.symmetry.bandstructure import HighSymmKpath\n",
    "\n",
    "from pymatgen.io.vasp.sets import MPNonSCFSet\n",
    "\n",
    "\n",
    "import numpy as np\n",
    "\n",
    "path_bulk = '/Users/psireal42/Documents/BB8/Code/Material_Modelling/esm-for-solid/VASP_Output/Tut_3/Ni111'\n",
    "path_surf = '/Users/psireal42/Documents/BB8/Code/Material_Modelling/esm-for-solid/VASP_Output/Tut_3/Ni-bulk'\n",
    "\n",
    "\n"
   ]
  },
  {
   "cell_type": "code",
   "execution_count": 2,
   "id": "c9881990-f738-4cf2-907f-2499f043ad23",
   "metadata": {},
   "outputs": [
    {
     "name": "stderr",
     "output_type": "stream",
     "text": [
      "/Users/psireal42/opt/anaconda3/envs/my-lammps/lib/python3.10/site-packages/pymatgen/symmetry/kpath.py:178: UserWarning: The input structure does not match the expected standard primitive! The path can be incorrect. Use at your own risk.\n",
      "  warn(\n"
     ]
    },
    {
     "ename": "OSError",
     "evalue": "[Errno 6] Device not configured",
     "output_type": "error",
     "traceback": [
      "\u001b[0;31m---------------------------------------------------------------------------\u001b[0m",
      "\u001b[0;31mOSError\u001b[0m                                   Traceback (most recent call last)",
      "Input \u001b[0;32mIn [2]\u001b[0m, in \u001b[0;36m<cell line: 9>\u001b[0;34m()\u001b[0m\n\u001b[1;32m      6\u001b[0m \u001b[38;5;66;03m#kpoints = Kpoints.automatic_linemode(divisions=40,ibz=kpath)\u001b[39;00m\n\u001b[1;32m      7\u001b[0m kpoints \u001b[38;5;241m=\u001b[39m MPNonSCFSet(struct, kpoints_line_density\u001b[38;5;241m=\u001b[39mkld)\u001b[38;5;241m.\u001b[39mkpoints\n\u001b[0;32m----> 9\u001b[0m vaspout \u001b[38;5;241m=\u001b[39m \u001b[43mVasprun\u001b[49m\u001b[43m(\u001b[49m\u001b[43mpath_bulk\u001b[49m\u001b[43m \u001b[49m\u001b[38;5;241;43m+\u001b[39;49m\u001b[43m \u001b[49m\u001b[38;5;124;43m'\u001b[39;49m\u001b[38;5;124;43m/bands/vasprun.xml\u001b[39;49m\u001b[38;5;124;43m'\u001b[39;49m\u001b[43m)\u001b[49m\n\u001b[1;32m     11\u001b[0m efermi \u001b[38;5;241m=\u001b[39m vaspout\u001b[38;5;241m.\u001b[39mefermi\n\u001b[1;32m     13\u001b[0m bandstr \u001b[38;5;241m=\u001b[39m vaspout\u001b[38;5;241m.\u001b[39mget_band_structure(kpoints_filename\u001b[38;5;241m=\u001b[39mpath_bulk \u001b[38;5;241m+\u001b[39m \u001b[38;5;124m'\u001b[39m\u001b[38;5;124m/bands/KPOINTS\u001b[39m\u001b[38;5;124m'\u001b[39m, line_mode\u001b[38;5;241m=\u001b[39m\u001b[38;5;28;01mTrue\u001b[39;00m, efermi\u001b[38;5;241m=\u001b[39mefermi)\n",
      "File \u001b[0;32m~/opt/anaconda3/envs/my-lammps/lib/python3.10/site-packages/pymatgen/io/vasp/outputs.py:370\u001b[0m, in \u001b[0;36mVasprun.__init__\u001b[0;34m(self, filename, ionic_step_skip, ionic_step_offset, parse_dos, parse_eigen, parse_projected_eigen, parse_potcar_file, occu_tol, separate_spins, exception_on_bad_xml)\u001b[0m\n\u001b[1;32m    363\u001b[0m     \u001b[38;5;28mself\u001b[39m\u001b[38;5;241m.\u001b[39m_parse(\n\u001b[1;32m    364\u001b[0m         StringIO(to_parse),\n\u001b[1;32m    365\u001b[0m         parse_dos\u001b[38;5;241m=\u001b[39mparse_dos,\n\u001b[1;32m    366\u001b[0m         parse_eigen\u001b[38;5;241m=\u001b[39mparse_eigen,\n\u001b[1;32m    367\u001b[0m         parse_projected_eigen\u001b[38;5;241m=\u001b[39mparse_projected_eigen,\n\u001b[1;32m    368\u001b[0m     )\n\u001b[1;32m    369\u001b[0m \u001b[38;5;28;01melse\u001b[39;00m:\n\u001b[0;32m--> 370\u001b[0m     \u001b[38;5;28;43mself\u001b[39;49m\u001b[38;5;241;43m.\u001b[39;49m\u001b[43m_parse\u001b[49m\u001b[43m(\u001b[49m\n\u001b[1;32m    371\u001b[0m \u001b[43m        \u001b[49m\u001b[43mf\u001b[49m\u001b[43m,\u001b[49m\n\u001b[1;32m    372\u001b[0m \u001b[43m        \u001b[49m\u001b[43mparse_dos\u001b[49m\u001b[38;5;241;43m=\u001b[39;49m\u001b[43mparse_dos\u001b[49m\u001b[43m,\u001b[49m\n\u001b[1;32m    373\u001b[0m \u001b[43m        \u001b[49m\u001b[43mparse_eigen\u001b[49m\u001b[38;5;241;43m=\u001b[39;49m\u001b[43mparse_eigen\u001b[49m\u001b[43m,\u001b[49m\n\u001b[1;32m    374\u001b[0m \u001b[43m        \u001b[49m\u001b[43mparse_projected_eigen\u001b[49m\u001b[38;5;241;43m=\u001b[39;49m\u001b[43mparse_projected_eigen\u001b[49m\u001b[43m,\u001b[49m\n\u001b[1;32m    375\u001b[0m \u001b[43m    \u001b[49m\u001b[43m)\u001b[49m\n\u001b[1;32m    376\u001b[0m     \u001b[38;5;28mself\u001b[39m\u001b[38;5;241m.\u001b[39mnionic_steps \u001b[38;5;241m=\u001b[39m \u001b[38;5;28mlen\u001b[39m(\u001b[38;5;28mself\u001b[39m\u001b[38;5;241m.\u001b[39mionic_steps)\n\u001b[1;32m    378\u001b[0m \u001b[38;5;28;01mif\u001b[39;00m parse_potcar_file:\n",
      "File \u001b[0;32m~/opt/anaconda3/envs/my-lammps/lib/python3.10/site-packages/pymatgen/io/vasp/outputs.py:398\u001b[0m, in \u001b[0;36mVasprun._parse\u001b[0;34m(self, stream, parse_dos, parse_eigen, parse_projected_eigen)\u001b[0m\n\u001b[1;32m    396\u001b[0m parsed_header \u001b[38;5;241m=\u001b[39m \u001b[38;5;28;01mFalse\u001b[39;00m\n\u001b[1;32m    397\u001b[0m \u001b[38;5;28;01mtry\u001b[39;00m:\n\u001b[0;32m--> 398\u001b[0m     \u001b[38;5;28;01mfor\u001b[39;00m event, elem \u001b[38;5;129;01min\u001b[39;00m ET\u001b[38;5;241m.\u001b[39miterparse(stream):\n\u001b[1;32m    399\u001b[0m         tag \u001b[38;5;241m=\u001b[39m elem\u001b[38;5;241m.\u001b[39mtag\n\u001b[1;32m    400\u001b[0m         \u001b[38;5;28;01mif\u001b[39;00m \u001b[38;5;129;01mnot\u001b[39;00m parsed_header:\n",
      "File \u001b[0;32m~/opt/anaconda3/envs/my-lammps/lib/python3.10/xml/etree/ElementTree.py:1262\u001b[0m, in \u001b[0;36miterparse.<locals>.iterator\u001b[0;34m(source)\u001b[0m\n\u001b[1;32m   1260\u001b[0m \u001b[38;5;28;01myield from\u001b[39;00m pullparser\u001b[38;5;241m.\u001b[39mread_events()\n\u001b[1;32m   1261\u001b[0m \u001b[38;5;66;03m# load event buffer\u001b[39;00m\n\u001b[0;32m-> 1262\u001b[0m data \u001b[38;5;241m=\u001b[39m \u001b[43msource\u001b[49m\u001b[38;5;241;43m.\u001b[39;49m\u001b[43mread\u001b[49m\u001b[43m(\u001b[49m\u001b[38;5;241;43m16\u001b[39;49m\u001b[43m \u001b[49m\u001b[38;5;241;43m*\u001b[39;49m\u001b[43m \u001b[49m\u001b[38;5;241;43m1024\u001b[39;49m\u001b[43m)\u001b[49m\n\u001b[1;32m   1263\u001b[0m \u001b[38;5;28;01mif\u001b[39;00m \u001b[38;5;129;01mnot\u001b[39;00m data:\n\u001b[1;32m   1264\u001b[0m     \u001b[38;5;28;01mbreak\u001b[39;00m\n",
      "\u001b[0;31mOSError\u001b[0m: [Errno 6] Device not configured"
     ]
    }
   ],
   "source": [
    "kld = 51\n",
    "\n",
    "\n",
    "struct = Structure.from_file(path_bulk + '/bands/POSCAR')\n",
    "kpath = HighSymmKpath(struct)\n",
    "#kpoints = Kpoints.automatic_linemode(divisions=40,ibz=kpath)\n",
    "kpoints = MPNonSCFSet(struct, kpoints_line_density=kld).kpoints\n",
    "\n",
    "vaspout = Vasprun(path_bulk + '/bands/vasprun.xml')\n",
    "\n",
    "efermi = vaspout.efermi\n",
    "\n",
    "bandstr = vaspout.get_band_structure(kpoints_filename=path_bulk + '/bands/KPOINTS', line_mode=True, efermi=efermi)\n",
    "bsp = BSPlotter(bandstr)\n",
    "\n",
    "plot = bsp.get_plot(ylim=[-25,10])\n",
    "fig = plot.gcf()\n",
    "ax = fig.gca()\n",
    "k_point_labels = [str([i])[-4] for i in ax.get_xticklabels()]\n",
    "ax.set_xticklabels([])\n",
    "\n",
    "ax.set_xticklabels([r\"$\\mathrm{%s}$\" % t for t in k_point_labels])\n",
    "ax.plot([ax.get_xlim()[0], ax.get_xlim()[1]], [0, 0], \"k--\")\n",
    "#ax.get_legend().remove()"
   ]
  },
  {
   "cell_type": "code",
   "execution_count": null,
   "id": "4a1a4589-0cd9-4b6a-a48d-68734e32d83e",
   "metadata": {},
   "outputs": [],
   "source": [
    "kld = 51\n",
    "\n",
    "\n",
    "struct = Structure.from_file(path_surf + '/bands/POSCAR')\n",
    "kpath = HighSymmKpath(struct)\n",
    "#kpoints = Kpoints.automatic_linemode(divisions=40,ibz=kpath)\n",
    "kpoints = MPNonSCFSet(struct, kpoints_line_density=kld).kpoints\n",
    "\n",
    "vaspout = Vasprun(path_surf + '/bands/vasprun.xml')\n",
    "\n",
    "efermi = vaspout.efermi\n",
    "\n",
    "bandstr = vaspout.get_band_structure(kpoints_filename=path_surf + '/bands/KPOINTS', line_mode=True, efermi=efermi)\n",
    "bsp = BSPlotter(bandstr)\n",
    "\n",
    "plot = bsp.get_plot(ylim=[-25,10])\n",
    "fig = plot.gcf()\n",
    "ax = fig.gca()\n",
    "k_point_labels = [str([i])[-4] for i in ax.get_xticklabels()]\n",
    "ax.set_xticklabels([])\n",
    "\n",
    "ax.set_xticklabels([r\"$\\mathrm{%s}$\" % t for t in k_point_labels])\n",
    "ax.plot([ax.get_xlim()[0], ax.get_xlim()[1]], [0, 0], \"k--\")\n",
    "#ax.get_legend().remove()"
   ]
  },
  {
   "cell_type": "code",
   "execution_count": null,
   "id": "9755b650-719a-4035-8995-ebe21a1e2e27",
   "metadata": {},
   "outputs": [],
   "source": [
    "run = BSVasprun(path + '/bands/vasprun.xml', parse_projected_eigen=True)\n",
    "dosrun = Vasprun(path + '/bands/vasprun.xml', parse_dos=True)\n",
    "dos = dosrun.complete_dos\n",
    "bs = run.get_band_structure(path + '/bands/KPOINTS', efermi=dos.efermi)\n",
    "\n",
    "\n",
    "bsdosplot = BSDOSPlotter(\n",
    "    bs_projection=\"elements\", \n",
    "    dos_projection=\"elements\", \n",
    "    vb_energy_range=11,\n",
    "    cb_energy_range=10,\n",
    "    egrid_interval=2\n",
    ")\n",
    "plot = bsdosplot.get_plot(bs, dos=dos)\n"
   ]
  },
  {
   "cell_type": "code",
   "execution_count": null,
   "id": "e457ee11-6c88-44d8-a965-65a3b232bda3",
   "metadata": {},
   "outputs": [],
   "source": []
  }
 ],
 "metadata": {
  "kernelspec": {
   "display_name": "Python 3 (ipykernel)",
   "language": "python",
   "name": "python3"
  },
  "language_info": {
   "codemirror_mode": {
    "name": "ipython",
    "version": 3
   },
   "file_extension": ".py",
   "mimetype": "text/x-python",
   "name": "python",
   "nbconvert_exporter": "python",
   "pygments_lexer": "ipython3",
   "version": "3.10.4"
  }
 },
 "nbformat": 4,
 "nbformat_minor": 5
}
