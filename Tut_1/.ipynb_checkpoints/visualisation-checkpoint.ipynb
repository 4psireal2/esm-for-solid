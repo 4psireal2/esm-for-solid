{
 "cells": [
  {
   "cell_type": "code",
   "execution_count": 21,
   "metadata": {},
   "outputs": [],
   "source": [
    "from ase.io.vasp import read_vasp\n",
    "from ase.visualize import view\n",
    "import nglview as nv\n",
    "\n"
   ]
  },
  {
   "cell_type": "code",
   "execution_count": 26,
   "metadata": {},
   "outputs": [
    {
     "data": {
      "text/plain": [
       "<subprocess.Popen at 0x7fc62df86af0>"
      ]
     },
     "execution_count": 26,
     "metadata": {},
     "output_type": "execute_result"
    }
   ],
   "source": [
    "structure = read_vasp('POSCAR-graphene')\n",
    "view(structure, repeat=[5,5,1], viewer='ngl')\n"
   ]
  }
 ],
 "metadata": {
  "interpreter": {
   "hash": "552093e8cad3ca42dc3d066c3cf7a0b13b6df30aeaec4d484c3e3d9d9c00e90d"
  },
  "kernelspec": {
   "display_name": "Python 3 (ipykernel)",
   "language": "python",
   "name": "python3"
  },
  "language_info": {
   "codemirror_mode": {
    "name": "ipython",
    "version": 3
   },
   "file_extension": ".py",
   "mimetype": "text/x-python",
   "name": "python",
   "nbconvert_exporter": "python",
   "pygments_lexer": "ipython3",
   "version": "3.8.5"
  }
 },
 "nbformat": 4,
 "nbformat_minor": 2
}
